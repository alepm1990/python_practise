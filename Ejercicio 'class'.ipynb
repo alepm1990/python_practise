{
 "cells": [
  {
   "cell_type": "code",
   "execution_count": 3,
   "id": "20a0a84d-0d75-4aa1-b9c7-1b1cec817007",
   "metadata": {},
   "outputs": [],
   "source": [
    "class Persona:\n",
    "    def __init__(self, nombre, apellido):\n",
    "        self.nombre = nombre\n",
    "        self.apellido = apellido\n",
    "\n",
    "class Cliente(Persona):\n",
    "    def __init__(self, nombre, apellido, numero_cuenta, balance):\n",
    "        super().__init__(nombre, apellido)\n",
    "        self.numero_cuenta = numero_cuenta\n",
    "        self.balance = balance\n",
    "\n",
    "    def __str__(self):\n",
    "        return f'{self.nombre} {self.apellido} - Saldo actual: {self.balance}'\n",
    "\n",
    "    def depositar(self, cantidad_depositar):\n",
    "        self.balance += cantidad_depositar\n",
    "        print(f\"Cantidad depositada: {cantidad_depositar}\")\n",
    "        return f'Saldo actual: {self.balance}'\n",
    "       \n",
    "    def retirar(self, cantidad_retirar):\n",
    "        if self.balance >= cantidad_retirar:\n",
    "            self.balance -= cantidad_retirar\n",
    "            print(f\"Importe retirado: {cantidad_retirar}\")\n",
    "            return f'Saldo actual: {self.balance}'\n",
    "        else:\n",
    "            print(\"Saldo insuficiente\")"
   ]
  },
  {
   "cell_type": "code",
   "execution_count": 4,
   "id": "0d0e2382-becb-49db-851c-6f886b602b0b",
   "metadata": {},
   "outputs": [],
   "source": [
    "persona1 = Persona(\"Laura\", \"Gonzalez\")\n",
    "cliente1 = Cliente(\"Laura\", \"Gonzalez\", 'XXXX5425441', 1000)"
   ]
  },
  {
   "cell_type": "code",
   "execution_count": 5,
   "id": "34c9ce16-88a0-4f63-ac8a-1c777acae8ba",
   "metadata": {},
   "outputs": [
    {
     "name": "stdout",
     "output_type": "stream",
     "text": [
      "Laura Gonzalez - Saldo actual: 1000\n"
     ]
    }
   ],
   "source": [
    "print(cliente1)"
   ]
  },
  {
   "cell_type": "code",
   "execution_count": 13,
   "id": "1f6da366-fa32-477e-9a9a-2846e79ab106",
   "metadata": {},
   "outputs": [
    {
     "name": "stdout",
     "output_type": "stream",
     "text": [
      "Cantidad depositada: 100\n"
     ]
    },
    {
     "data": {
      "text/plain": [
       "'Saldo actual: 1100'"
      ]
     },
     "execution_count": 13,
     "metadata": {},
     "output_type": "execute_result"
    }
   ],
   "source": [
    "cliente1.depositar(100)"
   ]
  },
  {
   "cell_type": "code",
   "execution_count": 15,
   "id": "a42784e3-b21b-4981-bf33-a672158bdfee",
   "metadata": {},
   "outputs": [
    {
     "name": "stdout",
     "output_type": "stream",
     "text": [
      "Importe retirado: 300\n"
     ]
    },
    {
     "data": {
      "text/plain": [
       "'Saldo actual: 800'"
      ]
     },
     "execution_count": 15,
     "metadata": {},
     "output_type": "execute_result"
    }
   ],
   "source": [
    "cliente1.retirar(300)"
   ]
  },
  {
   "cell_type": "code",
   "execution_count": 34,
   "id": "efee6b44-6147-4752-b1c0-f90d3d09028a",
   "metadata": {},
   "outputs": [],
   "source": [
    "def crear_cliente():\n",
    "    nombre = input(\"Indique su nombre:\")\n",
    "    apellido = input(\"Indique su apellido:\")\n",
    "    numero_cuenta = input(\"Número de cuenta:\")\n",
    "    saldo = int(input(\"Saldo del nuevo cliente\"))\n",
    "\n",
    "    return Cliente(nombre, apellido, numero_cuenta, saldo)"
   ]
  },
  {
   "cell_type": "code",
   "execution_count": 35,
   "id": "7e7ec4a0-17f2-4514-9795-81ac30cb0257",
   "metadata": {},
   "outputs": [
    {
     "name": "stdin",
     "output_type": "stream",
     "text": [
      "Indique su nombre: Ale\n",
      "Indique su apellido: Perez\n",
      "Número de cuenta: xxxx\n",
      "Saldo del nuevo cliente 788\n"
     ]
    },
    {
     "data": {
      "text/plain": [
       "<__main__.Cliente at 0x24f33af9190>"
      ]
     },
     "execution_count": 35,
     "metadata": {},
     "output_type": "execute_result"
    }
   ],
   "source": [
    "crear_cliente()"
   ]
  },
  {
   "cell_type": "code",
   "execution_count": 53,
   "id": "15468d0a-1e2f-4bbc-80cf-53d31c9e7fc7",
   "metadata": {},
   "outputs": [],
   "source": [
    "def inicio():\n",
    "    nuevo_cliente = crear_cliente()\n",
    "    print(f\"\\nHola {nuevo_cliente.nombre}!\")\n",
    "\n",
    "    while True:\n",
    "        print(\"\\nBienvenido a su sistema bancario rápido, ¿Qué desea hacer?\")\n",
    "        print(\"1 - Depositar dinero\")\n",
    "        print(\"2 - Retirada de efectivo\")\n",
    "        print(\"3 - Salir del programa\")\n",
    "\n",
    "        opcion_elegida = int(input(\"Acción: \"))\n",
    "\n",
    "        if opcion_elegida == 1:\n",
    "            cantidad = int(input(\"¿Cuánto dinero quieres ingresar? \"))\n",
    "            nuevo_cliente.depositar(cantidad)\n",
    "            print(f\"Saldo actual: {nuevo_cliente.balance}\")\n",
    "\n",
    "        elif opcion_elegida == 2:\n",
    "            cantidad = int(input(\"¿Cuánto desea retirar? \"))\n",
    "            nuevo_cliente.retirar(cantidad)\n",
    "            print(f\"Saldo actual: {nuevo_cliente.balance}\")\n",
    "\n",
    "        elif opcion_elegida == 3:\n",
    "            print(\"Gracias por usar el sistema bancario. ¡Hasta pronto!\")\n",
    "            break\n",
    "\n",
    "        else:\n",
    "            print(\"Opción no válida, marque 1, 2 ó 3\")\n",
    "\n",
    "    print(\"\\nResumen final:\")\n",
    "    print(nuevo_cliente)\n"
   ]
  },
  {
   "cell_type": "code",
   "execution_count": 54,
   "id": "e7e5ebf8-b772-46cd-9679-f6e710b0d77b",
   "metadata": {},
   "outputs": [
    {
     "name": "stdin",
     "output_type": "stream",
     "text": [
      "Indique su nombre: Ale\n",
      "Indique su apellido: Perez\n",
      "Número de cuenta: xxxx474587\n",
      "Saldo del nuevo cliente 10000\n"
     ]
    },
    {
     "name": "stdout",
     "output_type": "stream",
     "text": [
      "\n",
      "Hola Ale!\n",
      "\n",
      "Bienvenido a su sistema bancario rápido, ¿Qué desea hacer?\n",
      "1 - Depositar dinero\n",
      "2 - Retirada de efectivo\n",
      "3 - Salir del programa\n"
     ]
    },
    {
     "name": "stdin",
     "output_type": "stream",
     "text": [
      "Acción:  1\n",
      "¿Cuánto dinero quieres ingresar?  100\n"
     ]
    },
    {
     "name": "stdout",
     "output_type": "stream",
     "text": [
      "Cantidad depositada: 100\n",
      "Saldo actual: 10100\n",
      "\n",
      "Bienvenido a su sistema bancario rápido, ¿Qué desea hacer?\n",
      "1 - Depositar dinero\n",
      "2 - Retirada de efectivo\n",
      "3 - Salir del programa\n"
     ]
    },
    {
     "name": "stdin",
     "output_type": "stream",
     "text": [
      "Acción:  2\n",
      "¿Cuánto desea retirar?  5000\n"
     ]
    },
    {
     "name": "stdout",
     "output_type": "stream",
     "text": [
      "Importe retirado: 5000\n",
      "Saldo actual: 5100\n",
      "\n",
      "Bienvenido a su sistema bancario rápido, ¿Qué desea hacer?\n",
      "1 - Depositar dinero\n",
      "2 - Retirada de efectivo\n",
      "3 - Salir del programa\n"
     ]
    },
    {
     "name": "stdin",
     "output_type": "stream",
     "text": [
      "Acción:  3\n"
     ]
    },
    {
     "name": "stdout",
     "output_type": "stream",
     "text": [
      "Gracias por usar el sistema bancario. ¡Hasta pronto!\n",
      "\n",
      "Resumen final:\n",
      "Ale Perez - Saldo actual: 5100\n"
     ]
    }
   ],
   "source": [
    "inicio()"
   ]
  },
  {
   "cell_type": "code",
   "execution_count": null,
   "id": "c0916c06-1dbb-4c38-b4f6-59965622aa8d",
   "metadata": {},
   "outputs": [],
   "source": []
  }
 ],
 "metadata": {
  "kernelspec": {
   "display_name": "Python 3 (ipykernel)",
   "language": "python",
   "name": "python3"
  },
  "language_info": {
   "codemirror_mode": {
    "name": "ipython",
    "version": 3
   },
   "file_extension": ".py",
   "mimetype": "text/x-python",
   "name": "python",
   "nbconvert_exporter": "python",
   "pygments_lexer": "ipython3",
   "version": "3.12.7"
  }
 },
 "nbformat": 4,
 "nbformat_minor": 5
}
